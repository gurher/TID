{
 "cells": [
  {
   "cell_type": "code",
   "execution_count": 26,
   "metadata": {},
   "outputs": [
    {
     "data": {
      "text/html": [
       "<div>\n",
       "<style scoped>\n",
       "    .dataframe tbody tr th:only-of-type {\n",
       "        vertical-align: middle;\n",
       "    }\n",
       "\n",
       "    .dataframe tbody tr th {\n",
       "        vertical-align: top;\n",
       "    }\n",
       "\n",
       "    .dataframe thead th {\n",
       "        text-align: right;\n",
       "    }\n",
       "</style>\n",
       "<table border=\"1\" class=\"dataframe\">\n",
       "  <thead>\n",
       "    <tr style=\"text-align: right;\">\n",
       "      <th></th>\n",
       "      <th>x</th>\n",
       "      <th>y</th>\n",
       "      <th>t1</th>\n",
       "      <th>t2</th>\n",
       "      <th>t3</th>\n",
       "      <th>label</th>\n",
       "    </tr>\n",
       "  </thead>\n",
       "  <tbody>\n",
       "    <tr>\n",
       "      <th>count</th>\n",
       "      <td>1.189000e+03</td>\n",
       "      <td>1.189000e+03</td>\n",
       "      <td>1189.000000</td>\n",
       "      <td>1189.000000</td>\n",
       "      <td>1188.000000</td>\n",
       "      <td>1189.000000</td>\n",
       "    </tr>\n",
       "    <tr>\n",
       "      <th>mean</th>\n",
       "      <td>4.823990e+06</td>\n",
       "      <td>1.664367e+06</td>\n",
       "      <td>3.459798</td>\n",
       "      <td>-11.119680</td>\n",
       "      <td>-25.502357</td>\n",
       "      <td>2.355761</td>\n",
       "    </tr>\n",
       "    <tr>\n",
       "      <th>std</th>\n",
       "      <td>2.582686e+06</td>\n",
       "      <td>8.082555e+05</td>\n",
       "      <td>7.991216</td>\n",
       "      <td>9.811542</td>\n",
       "      <td>12.434934</td>\n",
       "      <td>1.460626</td>\n",
       "    </tr>\n",
       "    <tr>\n",
       "      <th>min</th>\n",
       "      <td>9.640596e+04</td>\n",
       "      <td>2.870789e+05</td>\n",
       "      <td>-26.700000</td>\n",
       "      <td>-36.100000</td>\n",
       "      <td>-49.600000</td>\n",
       "      <td>0.000000</td>\n",
       "    </tr>\n",
       "    <tr>\n",
       "      <th>25%</th>\n",
       "      <td>2.618306e+06</td>\n",
       "      <td>1.050505e+06</td>\n",
       "      <td>-3.100000</td>\n",
       "      <td>-17.600000</td>\n",
       "      <td>-34.225000</td>\n",
       "      <td>1.000000</td>\n",
       "    </tr>\n",
       "    <tr>\n",
       "      <th>50%</th>\n",
       "      <td>4.143899e+06</td>\n",
       "      <td>1.541110e+06</td>\n",
       "      <td>3.600000</td>\n",
       "      <td>-13.100000</td>\n",
       "      <td>-28.750000</td>\n",
       "      <td>3.000000</td>\n",
       "    </tr>\n",
       "    <tr>\n",
       "      <th>75%</th>\n",
       "      <td>7.374555e+06</td>\n",
       "      <td>2.074140e+06</td>\n",
       "      <td>10.300000</td>\n",
       "      <td>-4.900000</td>\n",
       "      <td>-21.000000</td>\n",
       "      <td>4.000000</td>\n",
       "    </tr>\n",
       "    <tr>\n",
       "      <th>max</th>\n",
       "      <td>9.701419e+06</td>\n",
       "      <td>4.726078e+06</td>\n",
       "      <td>22.000000</td>\n",
       "      <td>9.600000</td>\n",
       "      <td>5.300000</td>\n",
       "      <td>4.000000</td>\n",
       "    </tr>\n",
       "  </tbody>\n",
       "</table>\n",
       "</div>"
      ],
      "text/plain": [
       "                  x             y           t1           t2           t3  \\\n",
       "count  1.189000e+03  1.189000e+03  1189.000000  1189.000000  1188.000000   \n",
       "mean   4.823990e+06  1.664367e+06     3.459798   -11.119680   -25.502357   \n",
       "std    2.582686e+06  8.082555e+05     7.991216     9.811542    12.434934   \n",
       "min    9.640596e+04  2.870789e+05   -26.700000   -36.100000   -49.600000   \n",
       "25%    2.618306e+06  1.050505e+06    -3.100000   -17.600000   -34.225000   \n",
       "50%    4.143899e+06  1.541110e+06     3.600000   -13.100000   -28.750000   \n",
       "75%    7.374555e+06  2.074140e+06    10.300000    -4.900000   -21.000000   \n",
       "max    9.701419e+06  4.726078e+06    22.000000     9.600000     5.300000   \n",
       "\n",
       "             label  \n",
       "count  1189.000000  \n",
       "mean      2.355761  \n",
       "std       1.460626  \n",
       "min       0.000000  \n",
       "25%       1.000000  \n",
       "50%       3.000000  \n",
       "75%       4.000000  \n",
       "max       4.000000  "
      ]
     },
     "execution_count": 26,
     "metadata": {},
     "output_type": "execute_result"
    }
   ],
   "source": [
    "import numpy as np\n",
    "import pandas as pd\n",
    "import seaborn as sns\n",
    "import matplotlib.pyplot as plt\n",
    "import matplotlib.gridspec as grid_spec\n",
    "import matplotlib.patches as mpatches\n",
    "\n",
    "from sklearn.preprocessing import scale\n",
    "\n",
    "\n",
    "data=pd.read_csv(\"/Users/edward/Desktop/Spring/STA142B/Homework/HW3/data/data2.csv\",header=None)\n",
    "data.columns=[\"x\",\"y\",\"t1\",\"t2\",\"t3\",\"label\"]\n",
    "\n",
    "data.describe()"
   ]
  },
  {
   "cell_type": "code",
   "execution_count": 32,
   "metadata": {},
   "outputs": [
    {
     "name": "stderr",
     "output_type": "stream",
     "text": [
      "/Users/edward/miniconda3/envs/hyug/lib/python3.8/site-packages/seaborn/distributions.py:2619: FutureWarning: `distplot` is a deprecated function and will be removed in a future version. Please adapt your code to use either `displot` (a figure-level function with similar flexibility) or `histplot` (an axes-level function for histograms).\n",
      "  warnings.warn(msg, FutureWarning)\n"
     ]
    },
    {
     "data": {
      "text/plain": [
       "<AxesSubplot:xlabel='t3', ylabel='Density'>"
      ]
     },
     "execution_count": 32,
     "metadata": {},
     "output_type": "execute_result"
    },
    {
     "data": {
      "image/png": "[encoded data removed]",
      "text/plain": [
       "<Figure size 432x288 with 1 Axes>"
      ]
     },
     "metadata": {
      "needs_background": "light"
     },
     "output_type": "display_data"
    }
   ],
   "source": [
    "\n",
    "sns.distplot(data['t3'])\n",
    "\n"
   ]
  }
 ],
 "metadata": {
  "kernelspec": {
   "display_name": "Python 3 (ipykernel)",
   "language": "python",
   "name": "python3"
  },
  "language_info": {
   "codemirror_mode": {
    "name": "ipython",
    "version": 3
   },
   "file_extension": ".py",
   "mimetype": "text/x-python",
   "name": "python",
   "nbconvert_exporter": "python",
   "pygments_lexer": "ipython3",
   "version": "3.8.5"
  }
 },
 "nbformat": 4,
 "nbformat_minor": 4
}
